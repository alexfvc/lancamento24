{
 "cells": [
  {
   "cell_type": "code",
   "execution_count": 1,
   "metadata": {},
   "outputs": [
    {
     "name": "stderr",
     "output_type": "stream",
     "text": [
      "ERROR: Could not find a version that satisfies the requirement chromium-browser (from versions: none)\n",
      "ERROR: No matching distribution found for chromium-browser\n",
      "ERROR: Could not find a version that satisfies the requirement chromium-chromedriver (from versions: none)\n",
      "ERROR: No matching distribution found for chromium-chromedriver\n"
     ]
    },
    {
     "name": "stdout",
     "output_type": "stream",
     "text": [
      "Requirement already satisfied: selenium in c:\\users\\alexf\\onedrive\\documentos\\github\\lancamento2024\\lancamento2024\\lib\\site-packages (4.20.0)\n",
      "Collecting selenium\n",
      "  Downloading selenium-4.21.0-py3-none-any.whl.metadata (6.9 kB)\n",
      "Requirement already satisfied: urllib3<3,>=1.26 in c:\\users\\alexf\\onedrive\\documentos\\github\\lancamento2024\\lancamento2024\\lib\\site-packages (from urllib3[socks]<3,>=1.26->selenium) (2.2.1)\n",
      "Requirement already satisfied: trio~=0.17 in c:\\users\\alexf\\onedrive\\documentos\\github\\lancamento2024\\lancamento2024\\lib\\site-packages (from selenium) (0.24.0)\n",
      "Requirement already satisfied: trio-websocket~=0.9 in c:\\users\\alexf\\onedrive\\documentos\\github\\lancamento2024\\lancamento2024\\lib\\site-packages (from selenium) (0.11.1)\n",
      "Requirement already satisfied: certifi>=2021.10.8 in c:\\users\\alexf\\onedrive\\documentos\\github\\lancamento2024\\lancamento2024\\lib\\site-packages (from selenium) (2024.2.2)\n",
      "Requirement already satisfied: typing_extensions>=4.9.0 in c:\\users\\alexf\\onedrive\\documentos\\github\\lancamento2024\\lancamento2024\\lib\\site-packages (from selenium) (4.10.0)\n",
      "Requirement already satisfied: attrs>=20.1.0 in c:\\users\\alexf\\onedrive\\documentos\\github\\lancamento2024\\lancamento2024\\lib\\site-packages (from trio~=0.17->selenium) (23.2.0)\n",
      "Requirement already satisfied: sortedcontainers in c:\\users\\alexf\\onedrive\\documentos\\github\\lancamento2024\\lancamento2024\\lib\\site-packages (from trio~=0.17->selenium) (2.4.0)\n",
      "Requirement already satisfied: idna in c:\\users\\alexf\\onedrive\\documentos\\github\\lancamento2024\\lancamento2024\\lib\\site-packages (from trio~=0.17->selenium) (3.6)\n",
      "Requirement already satisfied: outcome in c:\\users\\alexf\\onedrive\\documentos\\github\\lancamento2024\\lancamento2024\\lib\\site-packages (from trio~=0.17->selenium) (1.3.0.post0)\n",
      "Requirement already satisfied: sniffio>=1.3.0 in c:\\users\\alexf\\onedrive\\documentos\\github\\lancamento2024\\lancamento2024\\lib\\site-packages (from trio~=0.17->selenium) (1.3.1)\n",
      "Requirement already satisfied: cffi>=1.14 in c:\\users\\alexf\\onedrive\\documentos\\github\\lancamento2024\\lancamento2024\\lib\\site-packages (from trio~=0.17->selenium) (1.16.0)\n",
      "Requirement already satisfied: exceptiongroup in c:\\users\\alexf\\onedrive\\documentos\\github\\lancamento2024\\lancamento2024\\lib\\site-packages (from trio~=0.17->selenium) (1.2.0)\n",
      "Requirement already satisfied: wsproto>=0.14 in c:\\users\\alexf\\onedrive\\documentos\\github\\lancamento2024\\lancamento2024\\lib\\site-packages (from trio-websocket~=0.9->selenium) (1.2.0)\n",
      "Requirement already satisfied: pysocks!=1.5.7,<2.0,>=1.5.6 in c:\\users\\alexf\\onedrive\\documentos\\github\\lancamento2024\\lancamento2024\\lib\\site-packages (from urllib3[socks]<3,>=1.26->selenium) (1.7.1)\n",
      "Requirement already satisfied: pycparser in c:\\users\\alexf\\onedrive\\documentos\\github\\lancamento2024\\lancamento2024\\lib\\site-packages (from cffi>=1.14->trio~=0.17->selenium) (2.21)\n",
      "Requirement already satisfied: h11<1,>=0.9.0 in c:\\users\\alexf\\onedrive\\documentos\\github\\lancamento2024\\lancamento2024\\lib\\site-packages (from wsproto>=0.14->trio-websocket~=0.9->selenium) (0.14.0)\n",
      "Downloading selenium-4.21.0-py3-none-any.whl (9.5 MB)\n",
      "   ---------------------------------------- 0.0/9.5 MB ? eta -:--:--\n",
      "   ---------------------------------------- 0.1/9.5 MB 3.8 MB/s eta 0:00:03\n",
      "   - -------------------------------------- 0.5/9.5 MB 7.3 MB/s eta 0:00:02\n",
      "   ----- ---------------------------------- 1.3/9.5 MB 11.7 MB/s eta 0:00:01\n",
      "   ---------- ----------------------------- 2.4/9.5 MB 15.3 MB/s eta 0:00:01\n",
      "   ------------- -------------------------- 3.3/9.5 MB 17.5 MB/s eta 0:00:01\n",
      "   ------------- -------------------------- 3.3/9.5 MB 17.5 MB/s eta 0:00:01\n",
      "   ------------------ --------------------- 4.4/9.5 MB 16.7 MB/s eta 0:00:01\n",
      "   -------------------------- ------------- 6.3/9.5 MB 20.2 MB/s eta 0:00:01\n",
      "   ------------------------------ --------- 7.3/9.5 MB 21.1 MB/s eta 0:00:01\n",
      "   ----------------------------------- ---- 8.3/9.5 MB 21.2 MB/s eta 0:00:01\n",
      "   ---------------------------------------  9.4/9.5 MB 21.3 MB/s eta 0:00:01\n",
      "   ---------------------------------------- 9.5/9.5 MB 20.9 MB/s eta 0:00:00\n",
      "Installing collected packages: selenium\n",
      "  Attempting uninstall: selenium\n",
      "    Found existing installation: selenium 4.20.0\n",
      "    Uninstalling selenium-4.20.0:\n",
      "      Successfully uninstalled selenium-4.20.0\n",
      "Successfully installed selenium-4.21.0\n",
      "Requirement already satisfied: webdriver-manager in c:\\users\\alexf\\onedrive\\documentos\\github\\lancamento2024\\lancamento2024\\lib\\site-packages (4.0.1)\n",
      "Requirement already satisfied: requests in c:\\users\\alexf\\onedrive\\documentos\\github\\lancamento2024\\lancamento2024\\lib\\site-packages (from webdriver-manager) (2.31.0)\n",
      "Requirement already satisfied: python-dotenv in c:\\users\\alexf\\onedrive\\documentos\\github\\lancamento2024\\lancamento2024\\lib\\site-packages (from webdriver-manager) (1.0.1)\n",
      "Requirement already satisfied: packaging in c:\\users\\alexf\\onedrive\\documentos\\github\\lancamento2024\\lancamento2024\\lib\\site-packages (from webdriver-manager) (24.0)\n",
      "Requirement already satisfied: charset-normalizer<4,>=2 in c:\\users\\alexf\\onedrive\\documentos\\github\\lancamento2024\\lancamento2024\\lib\\site-packages (from requests->webdriver-manager) (3.3.2)\n",
      "Requirement already satisfied: idna<4,>=2.5 in c:\\users\\alexf\\onedrive\\documentos\\github\\lancamento2024\\lancamento2024\\lib\\site-packages (from requests->webdriver-manager) (3.6)\n",
      "Requirement already satisfied: urllib3<3,>=1.21.1 in c:\\users\\alexf\\onedrive\\documentos\\github\\lancamento2024\\lancamento2024\\lib\\site-packages (from requests->webdriver-manager) (2.2.1)\n",
      "Requirement already satisfied: certifi>=2017.4.17 in c:\\users\\alexf\\onedrive\\documentos\\github\\lancamento2024\\lancamento2024\\lib\\site-packages (from requests->webdriver-manager) (2024.2.2)\n"
     ]
    }
   ],
   "source": [
    "!pip install chromium-browser\n",
    "!pip install chromium-chromedriver\n",
    "!pip install --upgrade selenium\n",
    "!pip install webdriver-manager\n",
    "#!pip install os usar para puxar a data de hj"
   ]
  },
  {
   "cell_type": "code",
   "execution_count": 2,
   "metadata": {},
   "outputs": [],
   "source": [
    "from selenium import webdriver\n",
    "from selenium.webdriver.common.by import By\n",
    "from time import sleep\n",
    "import pandas as pd\n",
    "from selenium.webdriver.common.keys import Keys\n",
    "from webdriver_manager.chrome import ChromeDriverManager\n",
    "from selenium.webdriver.chrome.service import Service"
   ]
  },
  {
   "cell_type": "code",
   "execution_count": 3,
   "metadata": {},
   "outputs": [],
   "source": [
    "# Automatiza a instalação do webdriver.\n",
    "\n",
    "servico = Service(ChromeDriverManager().install())\n",
    "#nav = webdriver.Chrome(service=servico)   "
   ]
  },
  {
   "cell_type": "code",
   "execution_count": 21,
   "metadata": {},
   "outputs": [
    {
     "name": "stderr",
     "output_type": "stream",
     "text": [
      "c:\\Users\\alexf\\OneDrive\\Documentos\\GitHub\\lancamento2024\\lancamento2024\\lib\\site-packages\\openpyxl\\worksheet\\_reader.py:329: UserWarning: Conditional Formatting extension is not supported and will be removed\n",
      "  warn(msg)\n"
     ]
    }
   ],
   "source": [
    "tabela = pd.read_excel(\"planejamento.xlsx\", sheet_name=\"preencher\")"
   ]
  },
  {
   "cell_type": "code",
   "execution_count": 22,
   "metadata": {},
   "outputs": [],
   "source": [
    "tabela[\"Data\"] = tabela[\"Data\"].dt.strftime(\"%d/%m/%Y\")"
   ]
  },
  {
   "cell_type": "code",
   "execution_count": 23,
   "metadata": {},
   "outputs": [
    {
     "data": {
      "text/html": [
       "<div>\n",
       "<style scoped>\n",
       "    .dataframe tbody tr th:only-of-type {\n",
       "        vertical-align: middle;\n",
       "    }\n",
       "\n",
       "    .dataframe tbody tr th {\n",
       "        vertical-align: top;\n",
       "    }\n",
       "\n",
       "    .dataframe thead th {\n",
       "        text-align: right;\n",
       "    }\n",
       "</style>\n",
       "<table border=\"1\" class=\"dataframe\">\n",
       "  <thead>\n",
       "    <tr style=\"text-align: right;\">\n",
       "      <th></th>\n",
       "      <th>EtapadaMatrícula</th>\n",
       "      <th>Turma</th>\n",
       "      <th>Disciplina</th>\n",
       "      <th>Turno</th>\n",
       "      <th>Escola</th>\n",
       "      <th>Bimestre</th>\n",
       "      <th>Data</th>\n",
       "      <th>ConteudoLecionado</th>\n",
       "      <th>truncado</th>\n",
       "    </tr>\n",
       "  </thead>\n",
       "  <tbody>\n",
       "    <tr>\n",
       "      <th>0</th>\n",
       "      <td>1º ano</td>\n",
       "      <td>1º EM REG 1 (2024)</td>\n",
       "      <td>Física</td>\n",
       "      <td>Manhã</td>\n",
       "      <td>Avenida Delvito Alves da Silva, 888</td>\n",
       "      <td>2º BIMESTRE</td>\n",
       "      <td>01/01/2024</td>\n",
       "      <td>teste1</td>\n",
       "      <td>1º EM REG 1 (2024) - Física - Manhã - Avenida ...</td>\n",
       "    </tr>\n",
       "    <tr>\n",
       "      <th>1</th>\n",
       "      <td>1º ano</td>\n",
       "      <td>1º EM REG 1 (2024)</td>\n",
       "      <td>Física</td>\n",
       "      <td>Manhã</td>\n",
       "      <td>Avenida Delvito Alves da Silva, 888</td>\n",
       "      <td>2º BIMESTRE</td>\n",
       "      <td>01/01/2024</td>\n",
       "      <td>teste2</td>\n",
       "      <td>1º EM REG 1 (2024) - Física - Manhã - Avenida ...</td>\n",
       "    </tr>\n",
       "  </tbody>\n",
       "</table>\n",
       "</div>"
      ],
      "text/plain": [
       "  EtapadaMatrícula               Turma Disciplina  Turno  \\\n",
       "0           1º ano  1º EM REG 1 (2024)     Física  Manhã   \n",
       "1           1º ano  1º EM REG 1 (2024)     Física  Manhã   \n",
       "\n",
       "                                Escola     Bimestre        Data  \\\n",
       "0  Avenida Delvito Alves da Silva, 888  2º BIMESTRE  01/01/2024   \n",
       "1  Avenida Delvito Alves da Silva, 888  2º BIMESTRE  01/01/2024   \n",
       "\n",
       "  ConteudoLecionado                                           truncado  \n",
       "0            teste1  1º EM REG 1 (2024) - Física - Manhã - Avenida ...  \n",
       "1            teste2  1º EM REG 1 (2024) - Física - Manhã - Avenida ...  "
      ]
     },
     "execution_count": 23,
     "metadata": {},
     "output_type": "execute_result"
    }
   ],
   "source": [
    "tabela.head()"
   ]
  },
  {
   "cell_type": "code",
   "execution_count": 24,
   "metadata": {},
   "outputs": [],
   "source": [
    "class newbot:\n",
    "    def __init__(self):\n",
    "        options = webdriver.ChromeOptions()\n",
    "        self.driver = webdriver.Chrome(options=options, service=servico)\n",
    "\n",
    "    def driver(self):\n",
    "        options = webdriver.ChromeOptions()\n",
    "        driver = webdriver.Chrome(options=options)\n",
    "\n",
    "    def diario_escolar_login(self):\n",
    "        print(\"preencha os campos com seu login, senha e o capchat na pagina do diario que acabou de abrir. \\nNAO CLICK EM ENTRAR\")          \n",
    "        site = 'https://dedmais.educacao.mg.gov.br/'\n",
    "        self.driver.get(site)                                                                                                       \n",
    "        ja = input(\"digite  's'  ao terminar:\\n ('x' para fechar)\\n \")\n",
    "        if ja == \"s\":\n",
    "            self.driver.find_element(by=By.XPATH, value='/html/body/div[1]/div/div/div[1]/div[3]/div[3]/div/div[2]/div/form/div[4]/button[2]').click()                #click em entrar\n",
    "            self.driver.implicitly_wait(5)    \n",
    "        elif ja == \"x\":\n",
    "            self.driver.close()\n",
    "        else:\n",
    "            bott = newbot()\n",
    "            bott.diario_escolar_login()\n",
    "            "
   ]
  },
  {
   "cell_type": "code",
   "execution_count": 27,
   "metadata": {},
   "outputs": [
    {
     "name": "stdout",
     "output_type": "stream",
     "text": [
      "preencha os campos com seu login, senha e o capchat na pagina do diario que acabou de abrir. \n",
      "NAO CLICK EM ENTRAR\n"
     ]
    }
   ],
   "source": [
    "bot = newbot()\n",
    "bot.diario_escolar_login()\n",
    "# https://chromedriver.chromium.org/downloads (124.0.6367.61)"
   ]
  },
  {
   "cell_type": "code",
   "execution_count": null,
   "metadata": {},
   "outputs": [],
   "source": [
    "def navegação():\n",
    "    cards = bot.driver.find_elements(by=By.CLASS_NAME, value=\"v-card-text\")  #procura card de turmas\n",
    "    df_cards = pd.DataFrame(columns=['EtapadaMatrícula','Turma','Escola','Disciplina','Turno', 'ElementoWeb'])\t# cria df de cards de turmas\n",
    "    \n",
    "    button = bot.driver.find_elements(by=By.CLASS_NAME, value=\"v-btn\")  #encontra botoes [home, voltar, cancelas, ...]\n",
    "\n",
    "    for i in range(len(cards)):\n",
    "        sleep(2)\n",
    "        cards = bot.driver.find_elements(by=By.CLASS_NAME, value=\"v-card-text\")                                                                                     #monta o df_cards\n",
    "        bot.driver.implicitly_wait(5)\n",
    "        list_card = cards[i].text.split(\"\\n\")\n",
    "        list_card.append(cards[i])\n",
    "        df_cards.loc[len(df_cards)] = list_card\n",
    "        df_cards.loc[i, \"Turma\"] = df_cards.loc[i, \"Turma\"].split(\" - \")[0]\n",
    "        #df_cards[\"Turma\"][i] = df_cards[\"Turma\"][i].split(\" - \")[0]\n",
    "        bot.driver.implicitly_wait(5)\n",
    "        cards[i].click()\n",
    "        global contador\n",
    "        contador = 0\n",
    "        #sleep(2)"
   ]
  },
  {
   "cell_type": "code",
   "execution_count": 30,
   "metadata": {},
   "outputs": [],
   "source": [
    "\n",
    "def select_turma():\n",
    "    #montando do dataframe com informaçoes do diario.\n",
    "    cards = bot.driver.find_elements(by=By.CLASS_NAME, value=\"v-card-text\")                                           # procura card de turmas\n",
    "    df_cards = pd.DataFrame(columns=['EtapadaMatrícula','Turma','Escola','Disciplina','Turno', 'ElementoWeb'])\t      # cria df de cards de turmas\n",
    "    \n",
    "    button = bot.driver.find_elements(by=By.CLASS_NAME, value=\"v-btn\")                                                # encontra botoes [home, voltar, cancelas, ...]\n",
    "\n",
    "    for i in range(len(cards)):\n",
    "        sleep(2)\n",
    "        cards = bot.driver.find_elements(by=By.CLASS_NAME, value=\"v-card-text\")                            #monta e atualiza o df_cards (deve ser feito todas as vezes que entra na aba)\n",
    "        bot.driver.implicitly_wait(5)\n",
    "        list_card = cards[i].text.split(\"\\n\") \n",
    "        list_card.append(cards[i]) \n",
    "        df_cards.loc[len(df_cards)] = list_card\n",
    "        df_cards.loc[i, \"Turma\"] = df_cards.loc[i, \"Turma\"].split(\" - \")[0]\n",
    "        #df_cards[\"Turma\"][i] = df_cards[\"Turma\"][i].split(\" - \")[0]\n",
    "        bot.driver.implicitly_wait(5)\n",
    "        cards[i].click()\n",
    "        global contador\n",
    "        contador = 0\n",
    "        #sleep(2)\n",
    "        \n",
    "        for ii in range(len(tabela)):\n",
    "            \n",
    "            def lancamento():               \n",
    "                #click em Cadastrar aula\n",
    "                button = bot.driver.find_elements(by=By.CLASS_NAME, value=\"v-btn\")\n",
    "                button[2].click()\n",
    "                sleep(1)\n",
    "                \n",
    "                #click em data\n",
    "                bot.driver.implicitly_wait(5)\n",
    "                bot.driver.find_element(by=By.XPATH, value=\"/html/body/div[2]/div/div[2]/div/div/div/div[2]/div[2]/div[1]/div/input\").click()\n",
    "                sleep(1)\n",
    "                bot.driver.implicitly_wait(5)\n",
    "                \n",
    "                #for para apagar data que vem no campo.\n",
    "                for x in range(10):                                                                              \n",
    "                    bot.driver.find_element(by=By.ID, value=\"dataAula\").send_keys(Keys.BACKSPACE)\n",
    "                    x += 1\n",
    "                \n",
    "                #lanca data\n",
    "                sleep(1)\n",
    "                bot.driver.implicitly_wait(5)               \n",
    "                data = tabela[\"Data\"][ii]\n",
    "                bot.driver.find_element(by=By.XPATH, value=\"/html/body/div[2]/div/div[2]/div/div/div/div[2]/div[2]/div[1]/div/input\").send_keys(str(data)) \n",
    "                print( tabela[\"Turma\"][ii],\" - \", tabela[\"Data\"][ii],\" - \", tabela[\"ConteudoLecionado\"][ii])\n",
    "                sleep(1)\n",
    "                \n",
    "                #lanca descrição\n",
    "                bot.driver.implicitly_wait(5)\n",
    "                bot.driver.find_element(by=By.XPATH, value=\"/html/body/div[2]/div/div[2]/div/div/div/div[2]/div[2]/div[6]/textarea\").send_keys(tabela[\"ConteudoLecionado\"][ii])\n",
    "                sleep(1)\n",
    "                bot.driver.implicitly_wait(5)\n",
    "                \n",
    "                #click em salvar\n",
    "                button = bot.driver.find_elements(by=By.CLASS_NAME, value=\"v-btn\")\n",
    "                button[8].click()\n",
    "                sleep(1)\n",
    "                bot.driver.implicitly_wait(5)\n",
    "                \n",
    "                #click em cancelar\n",
    "                button = bot.driver.find_elements(by=By.CLASS_NAME, value=\"v-btn\")\n",
    "                button[7].click()\n",
    "                sleep(1)\n",
    "                bot.driver.implicitly_wait(5)\n",
    "\n",
    "                #print( f\" aula n° {ii}\", tabela[\"Turma\"][ii], tabela[\"Data\"][ii], tabela[\"ConteudoLecionado\"][ii])\n",
    "                bot.driver.implicitly_wait(5)\n",
    "\n",
    "            if (tabela[\"Turma\"][ii] == df_cards[\"Turma\"][i]) and (tabela[\"Disciplina\"][ii] == df_cards[\"Disciplina\"][i] ):\n",
    "                sleep(1)\n",
    "                bot.driver.implicitly_wait(5)\n",
    "\n",
    "                if contador == 0:\n",
    "                    #click em aula\n",
    "                    button = bot.driver.find_elements(by=By.CLASS_NAME, value=\"v-btn\")\n",
    "                    button[4].click()\n",
    "                    sleep(1)\n",
    "                    bot.driver.implicitly_wait(5)\n",
    "\n",
    "                    lancamento()\n",
    "\n",
    "                    #print( f\" aula n° {ii}\", tabela[\"Turma\"][ii], tabela[\"Data\"][ii], tabela[\"ConteudoLecionado\"][ii])\n",
    "                    bot.driver.implicitly_wait(5)\n",
    "                    contador = 1\n",
    "\n",
    "                else: \n",
    "                    lancamento()\n",
    "                    \n",
    "        try:\n",
    "            bot.driver.find_element(by=By.XPATH, value=\"/html/body/div[1]/div/div/div/div/header/div/div[1]/button\").click()   # click em voltar \n",
    "            sleep(2)\n",
    "            bot.driver.implicitly_wait(5)\n",
    "            bot.driver.find_element(by=By.XPATH, value=\"/html/body/div[1]/div/div/div/div/header/div/div[1]/button\").click()   # click em voltar (volta para pagina inicial)\n",
    "            sleep(2)\n",
    "            bot.driver.implicitly_wait(5)\n",
    "            cards = bot.driver.find_elements(by=By.CLASS_NAME, value=\"v-card-text\")   \n",
    "        \n",
    "        except:\n",
    "            continue\n",
    "                "
   ]
  },
  {
   "cell_type": "code",
   "execution_count": 32,
   "metadata": {},
   "outputs": [
    {
     "name": "stdout",
     "output_type": "stream",
     "text": [
      "1º EM REG 1 (2024) 01/01/2024 teste1\n",
      "1º EM REG 1 (2024) 01/01/2024 teste2\n"
     ]
    },
    {
     "ename": "NoSuchWindowException",
     "evalue": "Message: no such window: target window already closed\nfrom unknown error: web view not found\n  (Session info: chrome=124.0.6367.208)\nStacktrace:\n\tGetHandleVerifier [0x00C1C113+48259]\n\t(No symbol) [0x00BACA41]\n\t(No symbol) [0x00AA0A17]\n\t(No symbol) [0x00A7E02B]\n\t(No symbol) [0x00B0742E]\n\t(No symbol) [0x00B19476]\n\t(No symbol) [0x00B00B36]\n\t(No symbol) [0x00AD570D]\n\t(No symbol) [0x00AD62CD]\n\tGetHandleVerifier [0x00ED65A3+2908435]\n\tGetHandleVerifier [0x00F13BBB+3159851]\n\tGetHandleVerifier [0x00CB50CB+674875]\n\tGetHandleVerifier [0x00CBB28C+699900]\n\t(No symbol) [0x00BB6244]\n\t(No symbol) [0x00BB2298]\n\t(No symbol) [0x00BB242C]\n\t(No symbol) [0x00BA4BB0]\n\tBaseThreadInitThunk [0x76337BA9+25]\n\tRtlInitializeExceptionChain [0x7711BE3B+107]\n\tRtlClearBits [0x7711BDBF+191]\n",
     "output_type": "error",
     "traceback": [
      "\u001b[1;31m---------------------------------------------------------------------------\u001b[0m",
      "\u001b[1;31mNoSuchWindowException\u001b[0m                     Traceback (most recent call last)",
      "Cell \u001b[1;32mIn[32], line 1\u001b[0m\n\u001b[1;32m----> 1\u001b[0m \u001b[43mselect_turma\u001b[49m\u001b[43m(\u001b[49m\u001b[43m)\u001b[49m\n",
      "Cell \u001b[1;32mIn[30], line 9\u001b[0m, in \u001b[0;36mselect_turma\u001b[1;34m()\u001b[0m\n\u001b[0;32m      7\u001b[0m \u001b[38;5;28;01mfor\u001b[39;00m i \u001b[38;5;129;01min\u001b[39;00m \u001b[38;5;28mrange\u001b[39m(\u001b[38;5;28mlen\u001b[39m(cards)):\n\u001b[0;32m      8\u001b[0m     sleep(\u001b[38;5;241m2\u001b[39m)\n\u001b[1;32m----> 9\u001b[0m     cards \u001b[38;5;241m=\u001b[39m \u001b[43mbot\u001b[49m\u001b[38;5;241;43m.\u001b[39;49m\u001b[43mdriver\u001b[49m\u001b[38;5;241;43m.\u001b[39;49m\u001b[43mfind_elements\u001b[49m\u001b[43m(\u001b[49m\u001b[43mby\u001b[49m\u001b[38;5;241;43m=\u001b[39;49m\u001b[43mBy\u001b[49m\u001b[38;5;241;43m.\u001b[39;49m\u001b[43mCLASS_NAME\u001b[49m\u001b[43m,\u001b[49m\u001b[43m \u001b[49m\u001b[43mvalue\u001b[49m\u001b[38;5;241;43m=\u001b[39;49m\u001b[38;5;124;43m\"\u001b[39;49m\u001b[38;5;124;43mv-card-text\u001b[39;49m\u001b[38;5;124;43m\"\u001b[39;49m\u001b[43m)\u001b[49m                                                                                     \u001b[38;5;66;03m#monta o df_cards\u001b[39;00m\n\u001b[0;32m     10\u001b[0m     bot\u001b[38;5;241m.\u001b[39mdriver\u001b[38;5;241m.\u001b[39mimplicitly_wait(\u001b[38;5;241m5\u001b[39m)\n\u001b[0;32m     11\u001b[0m     list_card \u001b[38;5;241m=\u001b[39m cards[i]\u001b[38;5;241m.\u001b[39mtext\u001b[38;5;241m.\u001b[39msplit(\u001b[38;5;124m\"\u001b[39m\u001b[38;5;130;01m\\n\u001b[39;00m\u001b[38;5;124m\"\u001b[39m)\n",
      "File \u001b[1;32mc:\\Users\\alexf\\OneDrive\\Documentos\\GitHub\\lancamento2024\\lancamento2024\\lib\\site-packages\\selenium\\webdriver\\remote\\webdriver.py:771\u001b[0m, in \u001b[0;36mWebDriver.find_elements\u001b[1;34m(self, by, value)\u001b[0m\n\u001b[0;32m    767\u001b[0m     value \u001b[38;5;241m=\u001b[39m \u001b[38;5;124mf\u001b[39m\u001b[38;5;124m'\u001b[39m\u001b[38;5;124m[name=\u001b[39m\u001b[38;5;124m\"\u001b[39m\u001b[38;5;132;01m{\u001b[39;00mvalue\u001b[38;5;132;01m}\u001b[39;00m\u001b[38;5;124m\"\u001b[39m\u001b[38;5;124m]\u001b[39m\u001b[38;5;124m'\u001b[39m\n\u001b[0;32m    769\u001b[0m \u001b[38;5;66;03m# Return empty list if driver returns null\u001b[39;00m\n\u001b[0;32m    770\u001b[0m \u001b[38;5;66;03m# See https://github.com/SeleniumHQ/selenium/issues/4555\u001b[39;00m\n\u001b[1;32m--> 771\u001b[0m \u001b[38;5;28;01mreturn\u001b[39;00m \u001b[38;5;28;43mself\u001b[39;49m\u001b[38;5;241;43m.\u001b[39;49m\u001b[43mexecute\u001b[49m\u001b[43m(\u001b[49m\u001b[43mCommand\u001b[49m\u001b[38;5;241;43m.\u001b[39;49m\u001b[43mFIND_ELEMENTS\u001b[49m\u001b[43m,\u001b[49m\u001b[43m \u001b[49m\u001b[43m{\u001b[49m\u001b[38;5;124;43m\"\u001b[39;49m\u001b[38;5;124;43musing\u001b[39;49m\u001b[38;5;124;43m\"\u001b[39;49m\u001b[43m:\u001b[49m\u001b[43m \u001b[49m\u001b[43mby\u001b[49m\u001b[43m,\u001b[49m\u001b[43m \u001b[49m\u001b[38;5;124;43m\"\u001b[39;49m\u001b[38;5;124;43mvalue\u001b[39;49m\u001b[38;5;124;43m\"\u001b[39;49m\u001b[43m:\u001b[49m\u001b[43m \u001b[49m\u001b[43mvalue\u001b[49m\u001b[43m}\u001b[49m\u001b[43m)\u001b[49m[\u001b[38;5;124m\"\u001b[39m\u001b[38;5;124mvalue\u001b[39m\u001b[38;5;124m\"\u001b[39m] \u001b[38;5;129;01mor\u001b[39;00m []\n",
      "File \u001b[1;32mc:\\Users\\alexf\\OneDrive\\Documentos\\GitHub\\lancamento2024\\lancamento2024\\lib\\site-packages\\selenium\\webdriver\\remote\\webdriver.py:347\u001b[0m, in \u001b[0;36mWebDriver.execute\u001b[1;34m(self, driver_command, params)\u001b[0m\n\u001b[0;32m    345\u001b[0m response \u001b[38;5;241m=\u001b[39m \u001b[38;5;28mself\u001b[39m\u001b[38;5;241m.\u001b[39mcommand_executor\u001b[38;5;241m.\u001b[39mexecute(driver_command, params)\n\u001b[0;32m    346\u001b[0m \u001b[38;5;28;01mif\u001b[39;00m response:\n\u001b[1;32m--> 347\u001b[0m     \u001b[38;5;28;43mself\u001b[39;49m\u001b[38;5;241;43m.\u001b[39;49m\u001b[43merror_handler\u001b[49m\u001b[38;5;241;43m.\u001b[39;49m\u001b[43mcheck_response\u001b[49m\u001b[43m(\u001b[49m\u001b[43mresponse\u001b[49m\u001b[43m)\u001b[49m\n\u001b[0;32m    348\u001b[0m     response[\u001b[38;5;124m\"\u001b[39m\u001b[38;5;124mvalue\u001b[39m\u001b[38;5;124m\"\u001b[39m] \u001b[38;5;241m=\u001b[39m \u001b[38;5;28mself\u001b[39m\u001b[38;5;241m.\u001b[39m_unwrap_value(response\u001b[38;5;241m.\u001b[39mget(\u001b[38;5;124m\"\u001b[39m\u001b[38;5;124mvalue\u001b[39m\u001b[38;5;124m\"\u001b[39m, \u001b[38;5;28;01mNone\u001b[39;00m))\n\u001b[0;32m    349\u001b[0m     \u001b[38;5;28;01mreturn\u001b[39;00m response\n",
      "File \u001b[1;32mc:\\Users\\alexf\\OneDrive\\Documentos\\GitHub\\lancamento2024\\lancamento2024\\lib\\site-packages\\selenium\\webdriver\\remote\\errorhandler.py:229\u001b[0m, in \u001b[0;36mErrorHandler.check_response\u001b[1;34m(self, response)\u001b[0m\n\u001b[0;32m    227\u001b[0m         alert_text \u001b[38;5;241m=\u001b[39m value[\u001b[38;5;124m\"\u001b[39m\u001b[38;5;124malert\u001b[39m\u001b[38;5;124m\"\u001b[39m]\u001b[38;5;241m.\u001b[39mget(\u001b[38;5;124m\"\u001b[39m\u001b[38;5;124mtext\u001b[39m\u001b[38;5;124m\"\u001b[39m)\n\u001b[0;32m    228\u001b[0m     \u001b[38;5;28;01mraise\u001b[39;00m exception_class(message, screen, stacktrace, alert_text)  \u001b[38;5;66;03m# type: ignore[call-arg]  # mypy is not smart enough here\u001b[39;00m\n\u001b[1;32m--> 229\u001b[0m \u001b[38;5;28;01mraise\u001b[39;00m exception_class(message, screen, stacktrace)\n",
      "\u001b[1;31mNoSuchWindowException\u001b[0m: Message: no such window: target window already closed\nfrom unknown error: web view not found\n  (Session info: chrome=124.0.6367.208)\nStacktrace:\n\tGetHandleVerifier [0x00C1C113+48259]\n\t(No symbol) [0x00BACA41]\n\t(No symbol) [0x00AA0A17]\n\t(No symbol) [0x00A7E02B]\n\t(No symbol) [0x00B0742E]\n\t(No symbol) [0x00B19476]\n\t(No symbol) [0x00B00B36]\n\t(No symbol) [0x00AD570D]\n\t(No symbol) [0x00AD62CD]\n\tGetHandleVerifier [0x00ED65A3+2908435]\n\tGetHandleVerifier [0x00F13BBB+3159851]\n\tGetHandleVerifier [0x00CB50CB+674875]\n\tGetHandleVerifier [0x00CBB28C+699900]\n\t(No symbol) [0x00BB6244]\n\t(No symbol) [0x00BB2298]\n\t(No symbol) [0x00BB242C]\n\t(No symbol) [0x00BA4BB0]\n\tBaseThreadInitThunk [0x76337BA9+25]\n\tRtlInitializeExceptionChain [0x7711BE3B+107]\n\tRtlClearBits [0x7711BDBF+191]\n"
     ]
    }
   ],
   "source": [
    "select_turma()"
   ]
  },
  {
   "cell_type": "code",
   "execution_count": 43,
   "metadata": {},
   "outputs": [
    {
     "name": "stderr",
     "output_type": "stream",
     "text": [
      "c:\\Users\\alexf\\OneDrive\\Documentos\\GitHub\\lancamento2024\\lancamento2024\\lib\\site-packages\\openpyxl\\worksheet\\_reader.py:329: UserWarning: Conditional Formatting extension is not supported and will be removed\n",
      "  warn(msg)\n"
     ]
    }
   ],
   "source": [
    "tabelateste = pd.read_excel(\"planejamento.xlsx\", sheet_name=\"datasFís\",header=1, usecols=(\"data\", \"dia letivo\",\"bimestre\"))"
   ]
  },
  {
   "cell_type": "code",
   "execution_count": 44,
   "metadata": {},
   "outputs": [
    {
     "data": {
      "text/html": [
       "<div>\n",
       "<style scoped>\n",
       "    .dataframe tbody tr th:only-of-type {\n",
       "        vertical-align: middle;\n",
       "    }\n",
       "\n",
       "    .dataframe tbody tr th {\n",
       "        vertical-align: top;\n",
       "    }\n",
       "\n",
       "    .dataframe thead th {\n",
       "        text-align: right;\n",
       "    }\n",
       "</style>\n",
       "<table border=\"1\" class=\"dataframe\">\n",
       "  <thead>\n",
       "    <tr style=\"text-align: right;\">\n",
       "      <th></th>\n",
       "      <th>data</th>\n",
       "      <th>dia letivo</th>\n",
       "      <th>bimestre</th>\n",
       "    </tr>\n",
       "  </thead>\n",
       "  <tbody>\n",
       "    <tr>\n",
       "      <th>0</th>\n",
       "      <td>2024-02-05</td>\n",
       "      <td>quinta-feira</td>\n",
       "      <td>1° bimestre</td>\n",
       "    </tr>\n",
       "    <tr>\n",
       "      <th>1</th>\n",
       "      <td>2024-02-06</td>\n",
       "      <td>sexta-feira</td>\n",
       "      <td>1° bimestre</td>\n",
       "    </tr>\n",
       "    <tr>\n",
       "      <th>2</th>\n",
       "      <td>2024-02-07</td>\n",
       "      <td>quarta-feira</td>\n",
       "      <td>1° bimestre</td>\n",
       "    </tr>\n",
       "    <tr>\n",
       "      <th>3</th>\n",
       "      <td>2024-02-08</td>\n",
       "      <td>quinta-feira</td>\n",
       "      <td>1° bimestre</td>\n",
       "    </tr>\n",
       "    <tr>\n",
       "      <th>4</th>\n",
       "      <td>2024-02-09</td>\n",
       "      <td>sexta-feira</td>\n",
       "      <td>1° bimestre</td>\n",
       "    </tr>\n",
       "  </tbody>\n",
       "</table>\n",
       "</div>"
      ],
      "text/plain": [
       "        data    dia letivo     bimestre\n",
       "0 2024-02-05  quinta-feira  1° bimestre\n",
       "1 2024-02-06   sexta-feira  1° bimestre\n",
       "2 2024-02-07  quarta-feira  1° bimestre\n",
       "3 2024-02-08  quinta-feira  1° bimestre\n",
       "4 2024-02-09   sexta-feira  1° bimestre"
      ]
     },
     "execution_count": 44,
     "metadata": {},
     "output_type": "execute_result"
    }
   ],
   "source": [
    "tabelateste.head(5)"
   ]
  },
  {
   "cell_type": "code",
   "execution_count": 46,
   "metadata": {},
   "outputs": [
    {
     "ename": "TypeError",
     "evalue": "_LocationIndexer.__call__() takes from 1 to 2 positional arguments but 3 were given",
     "output_type": "error",
     "traceback": [
      "\u001b[1;31m---------------------------------------------------------------------------\u001b[0m",
      "\u001b[1;31mTypeError\u001b[0m                                 Traceback (most recent call last)",
      "Cell \u001b[1;32mIn[46], line 1\u001b[0m\n\u001b[1;32m----> 1\u001b[0m \u001b[43mtabelateste\u001b[49m\u001b[38;5;241;43m.\u001b[39;49m\u001b[43mloc\u001b[49m\u001b[43m(\u001b[49m\u001b[43m \u001b[49m\u001b[38;5;241;43m2\u001b[39;49m\u001b[43m,\u001b[49m\u001b[38;5;124;43m\"\u001b[39;49m\u001b[38;5;124;43mbimestre\u001b[39;49m\u001b[38;5;124;43m\"\u001b[39;49m\u001b[43m)\u001b[49m\n",
      "\u001b[1;31mTypeError\u001b[0m: _LocationIndexer.__call__() takes from 1 to 2 positional arguments but 3 were given"
     ]
    }
   ],
   "source": [
    "#atualização de dados\n",
    "def Atualizacao_de_dados():\n",
    "    #navegação\n",
    "    navegação( )\n",
    "    \n",
    "    #scrapping\n",
    "\n"
   ]
  },
  {
   "cell_type": "code",
   "execution_count": null,
   "metadata": {},
   "outputs": [],
   "source": []
  },
  {
   "cell_type": "code",
   "execution_count": null,
   "metadata": {},
   "outputs": [],
   "source": []
  },
  {
   "cell_type": "code",
   "execution_count": null,
   "metadata": {},
   "outputs": [],
   "source": []
  },
  {
   "cell_type": "code",
   "execution_count": null,
   "metadata": {},
   "outputs": [],
   "source": []
  },
  {
   "cell_type": "code",
   "execution_count": null,
   "metadata": {},
   "outputs": [],
   "source": []
  },
  {
   "cell_type": "code",
   "execution_count": 17,
   "metadata": {},
   "outputs": [
    {
     "ename": "WebDriverException",
     "evalue": "Message: disconnected: not connected to DevTools\n  (failed to check if window was closed: disconnected: not connected to DevTools)\n  (Session info: chrome=124.0.6367.208)\nStacktrace:\n\tGetHandleVerifier [0x00C1C113+48259]\n\t(No symbol) [0x00BACA41]\n\t(No symbol) [0x00AA0A17]\n\t(No symbol) [0x00A8B1B4]\n\t(No symbol) [0x00A8B9DD]\n\t(No symbol) [0x00AA0F1E]\n\t(No symbol) [0x00A7DC1D]\n\t(No symbol) [0x00B0CB0B]\n\t(No symbol) [0x00B00D63]\n\t(No symbol) [0x00AD570D]\n\t(No symbol) [0x00AD62CD]\n\tGetHandleVerifier [0x00ED65A3+2908435]\n\tGetHandleVerifier [0x00F13BBB+3159851]\n\tGetHandleVerifier [0x00CB50CB+674875]\n\tGetHandleVerifier [0x00CBB28C+699900]\n\t(No symbol) [0x00BB6244]\n\t(No symbol) [0x00BB2298]\n\t(No symbol) [0x00BB242C]\n\t(No symbol) [0x00BA4BB0]\n\tBaseThreadInitThunk [0x76337BA9+25]\n\tRtlInitializeExceptionChain [0x7711BE3B+107]\n\tRtlClearBits [0x7711BDBF+191]\n",
     "output_type": "error",
     "traceback": [
      "\u001b[1;31m---------------------------------------------------------------------------\u001b[0m",
      "\u001b[1;31mWebDriverException\u001b[0m                        Traceback (most recent call last)",
      "Cell \u001b[1;32mIn[17], line 1\u001b[0m\n\u001b[1;32m----> 1\u001b[0m \u001b[43mbot\u001b[49m\u001b[38;5;241;43m.\u001b[39;49m\u001b[43mdriver\u001b[49m\u001b[38;5;241;43m.\u001b[39;49m\u001b[43mclose\u001b[49m\u001b[43m(\u001b[49m\u001b[43m)\u001b[49m\n",
      "File \u001b[1;32mc:\\Users\\alexf\\OneDrive\\Documentos\\GitHub\\lancamento2024\\lancamento2024\\lib\\site-packages\\selenium\\webdriver\\remote\\webdriver.py:458\u001b[0m, in \u001b[0;36mWebDriver.close\u001b[1;34m(self)\u001b[0m\n\u001b[0;32m    450\u001b[0m \u001b[38;5;28;01mdef\u001b[39;00m \u001b[38;5;21mclose\u001b[39m(\u001b[38;5;28mself\u001b[39m) \u001b[38;5;241m-\u001b[39m\u001b[38;5;241m>\u001b[39m \u001b[38;5;28;01mNone\u001b[39;00m:\n\u001b[0;32m    451\u001b[0m \u001b[38;5;250m    \u001b[39m\u001b[38;5;124;03m\"\"\"Closes the current window.\u001b[39;00m\n\u001b[0;32m    452\u001b[0m \n\u001b[0;32m    453\u001b[0m \u001b[38;5;124;03m    :Usage:\u001b[39;00m\n\u001b[1;32m   (...)\u001b[0m\n\u001b[0;32m    456\u001b[0m \u001b[38;5;124;03m            driver.close()\u001b[39;00m\n\u001b[0;32m    457\u001b[0m \u001b[38;5;124;03m    \"\"\"\u001b[39;00m\n\u001b[1;32m--> 458\u001b[0m     \u001b[38;5;28;43mself\u001b[39;49m\u001b[38;5;241;43m.\u001b[39;49m\u001b[43mexecute\u001b[49m\u001b[43m(\u001b[49m\u001b[43mCommand\u001b[49m\u001b[38;5;241;43m.\u001b[39;49m\u001b[43mCLOSE\u001b[49m\u001b[43m)\u001b[49m\n",
      "File \u001b[1;32mc:\\Users\\alexf\\OneDrive\\Documentos\\GitHub\\lancamento2024\\lancamento2024\\lib\\site-packages\\selenium\\webdriver\\remote\\webdriver.py:347\u001b[0m, in \u001b[0;36mWebDriver.execute\u001b[1;34m(self, driver_command, params)\u001b[0m\n\u001b[0;32m    345\u001b[0m response \u001b[38;5;241m=\u001b[39m \u001b[38;5;28mself\u001b[39m\u001b[38;5;241m.\u001b[39mcommand_executor\u001b[38;5;241m.\u001b[39mexecute(driver_command, params)\n\u001b[0;32m    346\u001b[0m \u001b[38;5;28;01mif\u001b[39;00m response:\n\u001b[1;32m--> 347\u001b[0m     \u001b[38;5;28;43mself\u001b[39;49m\u001b[38;5;241;43m.\u001b[39;49m\u001b[43merror_handler\u001b[49m\u001b[38;5;241;43m.\u001b[39;49m\u001b[43mcheck_response\u001b[49m\u001b[43m(\u001b[49m\u001b[43mresponse\u001b[49m\u001b[43m)\u001b[49m\n\u001b[0;32m    348\u001b[0m     response[\u001b[38;5;124m\"\u001b[39m\u001b[38;5;124mvalue\u001b[39m\u001b[38;5;124m\"\u001b[39m] \u001b[38;5;241m=\u001b[39m \u001b[38;5;28mself\u001b[39m\u001b[38;5;241m.\u001b[39m_unwrap_value(response\u001b[38;5;241m.\u001b[39mget(\u001b[38;5;124m\"\u001b[39m\u001b[38;5;124mvalue\u001b[39m\u001b[38;5;124m\"\u001b[39m, \u001b[38;5;28;01mNone\u001b[39;00m))\n\u001b[0;32m    349\u001b[0m     \u001b[38;5;28;01mreturn\u001b[39;00m response\n",
      "File \u001b[1;32mc:\\Users\\alexf\\OneDrive\\Documentos\\GitHub\\lancamento2024\\lancamento2024\\lib\\site-packages\\selenium\\webdriver\\remote\\errorhandler.py:229\u001b[0m, in \u001b[0;36mErrorHandler.check_response\u001b[1;34m(self, response)\u001b[0m\n\u001b[0;32m    227\u001b[0m         alert_text \u001b[38;5;241m=\u001b[39m value[\u001b[38;5;124m\"\u001b[39m\u001b[38;5;124malert\u001b[39m\u001b[38;5;124m\"\u001b[39m]\u001b[38;5;241m.\u001b[39mget(\u001b[38;5;124m\"\u001b[39m\u001b[38;5;124mtext\u001b[39m\u001b[38;5;124m\"\u001b[39m)\n\u001b[0;32m    228\u001b[0m     \u001b[38;5;28;01mraise\u001b[39;00m exception_class(message, screen, stacktrace, alert_text)  \u001b[38;5;66;03m# type: ignore[call-arg]  # mypy is not smart enough here\u001b[39;00m\n\u001b[1;32m--> 229\u001b[0m \u001b[38;5;28;01mraise\u001b[39;00m exception_class(message, screen, stacktrace)\n",
      "\u001b[1;31mWebDriverException\u001b[0m: Message: disconnected: not connected to DevTools\n  (failed to check if window was closed: disconnected: not connected to DevTools)\n  (Session info: chrome=124.0.6367.208)\nStacktrace:\n\tGetHandleVerifier [0x00C1C113+48259]\n\t(No symbol) [0x00BACA41]\n\t(No symbol) [0x00AA0A17]\n\t(No symbol) [0x00A8B1B4]\n\t(No symbol) [0x00A8B9DD]\n\t(No symbol) [0x00AA0F1E]\n\t(No symbol) [0x00A7DC1D]\n\t(No symbol) [0x00B0CB0B]\n\t(No symbol) [0x00B00D63]\n\t(No symbol) [0x00AD570D]\n\t(No symbol) [0x00AD62CD]\n\tGetHandleVerifier [0x00ED65A3+2908435]\n\tGetHandleVerifier [0x00F13BBB+3159851]\n\tGetHandleVerifier [0x00CB50CB+674875]\n\tGetHandleVerifier [0x00CBB28C+699900]\n\t(No symbol) [0x00BB6244]\n\t(No symbol) [0x00BB2298]\n\t(No symbol) [0x00BB242C]\n\t(No symbol) [0x00BA4BB0]\n\tBaseThreadInitThunk [0x76337BA9+25]\n\tRtlInitializeExceptionChain [0x7711BE3B+107]\n\tRtlClearBits [0x7711BDBF+191]\n"
     ]
    }
   ],
   "source": [
    "bot.driver.close()"
   ]
  },
  {
   "cell_type": "code",
   "execution_count": null,
   "metadata": {},
   "outputs": [],
   "source": []
  }
 ],
 "metadata": {
  "kernelspec": {
   "display_name": "lancamento2024",
   "language": "python",
   "name": "python3"
  },
  "language_info": {
   "codemirror_mode": {
    "name": "ipython",
    "version": 3
   },
   "file_extension": ".py",
   "mimetype": "text/x-python",
   "name": "python",
   "nbconvert_exporter": "python",
   "pygments_lexer": "ipython3",
   "version": "3.10.11"
  }
 },
 "nbformat": 4,
 "nbformat_minor": 2
}
